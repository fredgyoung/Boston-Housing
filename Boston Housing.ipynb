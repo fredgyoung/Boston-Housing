{
 "cells": [
  {
   "cell_type": "code",
   "execution_count": 1,
   "metadata": {
    "collapsed": true
   },
   "outputs": [],
   "source": [
    "from sklearn import datasets\n",
    "import pandas as pd\n",
    "from sklearn.preprocessing import StandardScaler\n",
    "from sklearn.cross_validation import train_test_split\n",
    "from sklearn.metrics import mean_squared_error\n",
    "from sklearn.metrics import r2_score\n",
    "from sklearn.linear_model import LinearRegression"
   ]
  },
  {
   "cell_type": "code",
   "execution_count": 2,
   "metadata": {
    "collapsed": false,
    "scrolled": true
   },
   "outputs": [
    {
     "name": "stdout",
     "output_type": "stream",
     "text": [
      "Boston House Prices dataset\n",
      "\n",
      "Notes\n",
      "------\n",
      "Data Set Characteristics:  \n",
      "\n",
      "    :Number of Instances: 506 \n",
      "\n",
      "    :Number of Attributes: 13 numeric/categorical predictive\n",
      "    \n",
      "    :Median Value (attribute 14) is usually the target\n",
      "\n",
      "    :Attribute Information (in order):\n",
      "        - CRIM     per capita crime rate by town\n",
      "        - ZN       proportion of residential land zoned for lots over 25,000 sq.ft.\n",
      "        - INDUS    proportion of non-retail business acres per town\n",
      "        - CHAS     Charles River dummy variable (= 1 if tract bounds river; 0 otherwise)\n",
      "        - NOX      nitric oxides concentration (parts per 10 million)\n",
      "        - RM       average number of rooms per dwelling\n",
      "        - AGE      proportion of owner-occupied units built prior to 1940\n",
      "        - DIS      weighted distances to five Boston employment centres\n",
      "        - RAD      index of accessibility to radial highways\n",
      "        - TAX      full-value property-tax rate per $10,000\n",
      "        - PTRATIO  pupil-teacher ratio by town\n",
      "        - B        1000(Bk - 0.63)^2 where Bk is the proportion of blacks by town\n",
      "        - LSTAT    % lower status of the population\n",
      "        - MEDV     Median value of owner-occupied homes in $1000's\n",
      "\n",
      "    :Missing Attribute Values: None\n",
      "\n",
      "    :Creator: Harrison, D. and Rubinfeld, D.L.\n",
      "\n",
      "This is a copy of UCI ML housing dataset.\n",
      "http://archive.ics.uci.edu/ml/datasets/Housing\n",
      "\n",
      "\n",
      "This dataset was taken from the StatLib library which is maintained at Carnegie Mellon University.\n",
      "\n",
      "The Boston house-price data of Harrison, D. and Rubinfeld, D.L. 'Hedonic\n",
      "prices and the demand for clean air', J. Environ. Economics & Management,\n",
      "vol.5, 81-102, 1978.   Used in Belsley, Kuh & Welsch, 'Regression diagnostics\n",
      "...', Wiley, 1980.   N.B. Various transformations are used in the table on\n",
      "pages 244-261 of the latter.\n",
      "\n",
      "The Boston house-price data has been used in many machine learning papers that address regression\n",
      "problems.   \n",
      "     \n",
      "**References**\n",
      "\n",
      "   - Belsley, Kuh & Welsch, 'Regression diagnostics: Identifying Influential Data and Sources of Collinearity', Wiley, 1980. 244-261.\n",
      "   - Quinlan,R. (1993). Combining Instance-Based and Model-Based Learning. In Proceedings on the Tenth International Conference of Machine Learning, 236-243, University of Massachusetts, Amherst. Morgan Kaufmann.\n",
      "   - many more! (see http://archive.ics.uci.edu/ml/datasets/Housing)\n",
      "\n"
     ]
    }
   ],
   "source": [
    "bean = datasets.load_boston()\n",
    "print bean.DESCR"
   ]
  },
  {
   "cell_type": "code",
   "execution_count": 3,
   "metadata": {
    "collapsed": true
   },
   "outputs": [],
   "source": [
    "def load_boston():\n",
    "    scaler = StandardScaler()\n",
    "    boston = datasets.load_boston()\n",
    "    X=boston.data\n",
    "    y=boston.target\n",
    "    X = scaler.fit_transform(X)\n",
    "    return train_test_split(X,y)"
   ]
  },
  {
   "cell_type": "code",
   "execution_count": 4,
   "metadata": {
    "collapsed": true
   },
   "outputs": [],
   "source": [
    "X_train, X_test, y_train, y_test = load_boston()"
   ]
  },
  {
   "cell_type": "code",
   "execution_count": 5,
   "metadata": {
    "collapsed": false
   },
   "outputs": [
    {
     "data": {
      "text/plain": [
       "(379L, 13L)"
      ]
     },
     "execution_count": 5,
     "metadata": {},
     "output_type": "execute_result"
    }
   ],
   "source": [
    "X_train.shape"
   ]
  },
  {
   "cell_type": "code",
   "execution_count": 6,
   "metadata": {
    "collapsed": false
   },
   "outputs": [
    {
     "data": {
      "text/plain": [
       "LinearRegression(copy_X=True, fit_intercept=True, n_jobs=1, normalize=False)"
      ]
     },
     "execution_count": 6,
     "metadata": {},
     "output_type": "execute_result"
    }
   ],
   "source": [
    "clf = LinearRegression()\n",
    "clf.fit(X_train, y_train)"
   ]
  },
  {
   "cell_type": "code",
   "execution_count": 7,
   "metadata": {
    "collapsed": false
   },
   "outputs": [
    {
     "data": {
      "text/plain": [
       "[(22.0, 27.684669932170635),\n",
       " (22.800000000000001, 28.894092534579542),\n",
       " (15.6, 21.541619860450904),\n",
       " (26.399999999999999, 22.849840283594617),\n",
       " (13.9, 13.20955207709423),\n",
       " (25.0, 24.447507101015709),\n",
       " (17.199999999999999, 14.404218637258861),\n",
       " (23.0, 23.42131921347368),\n",
       " (19.5, 18.345837879560484),\n",
       " (17.399999999999999, 23.375814000179044),\n",
       " (16.199999999999999, 20.746956720503107),\n",
       " (18.399999999999999, 19.295028486197531),\n",
       " (17.100000000000001, 19.38855624229102),\n",
       " (37.899999999999999, 33.959606505919837),\n",
       " (16.0, 18.894201552502466),\n",
       " (19.300000000000001, 20.783069270240134),\n",
       " (11.300000000000001, 13.790929585533188),\n",
       " (33.399999999999999, 35.801346433647865),\n",
       " (8.0999999999999996, 3.523801040724905),\n",
       " (10.199999999999999, 16.765986399707064),\n",
       " (24.0, 25.432697548350706),\n",
       " (12.6, 18.514163756779109),\n",
       " (28.600000000000001, 28.663522555686484),\n",
       " (15.4, 18.313890606563852),\n",
       " (8.5, 16.81150318018841),\n",
       " (21.399999999999999, 24.514577232218304),\n",
       " (27.5, 15.854132356637026),\n",
       " (30.100000000000001, 35.806752433276436),\n",
       " (17.399999999999999, 15.927920751840444),\n",
       " (33.299999999999997, 36.919578212438893),\n",
       " (14.1, 17.893866800870605),\n",
       " (22.899999999999999, 23.420458329252973),\n",
       " (26.199999999999999, 23.911349090394072),\n",
       " (17.800000000000001, 20.879105118297865),\n",
       " (13.0, 17.56964837545857),\n",
       " (23.300000000000001, 26.38752982753536),\n",
       " (9.5999999999999996, 14.83120470722427),\n",
       " (33.799999999999997, 35.28218043146002),\n",
       " (24.399999999999999, 28.665156269467886),\n",
       " (37.200000000000003, 32.76801276478848),\n",
       " (8.8000000000000007, 3.447086717322783),\n",
       " (19.600000000000001, 19.538485344031514),\n",
       " (32.0, 33.792534886003097),\n",
       " (12.0, 11.829569773703646),\n",
       " (33.0, 23.154248231457611),\n",
       " (21.600000000000001, 25.098435621118011),\n",
       " (13.800000000000001, 12.23586950721479),\n",
       " (15.1, 17.802717941408261),\n",
       " (16.100000000000001, 18.569580646810216),\n",
       " (20.100000000000001, 16.029190956942589),\n",
       " (23.300000000000001, 27.800162883493996),\n",
       " (10.5, 12.703433190778219),\n",
       " (5.0, 6.0522335652180743),\n",
       " (14.0, 13.27086517510244),\n",
       " (23.800000000000001, 25.608020680620285),\n",
       " (18.800000000000001, 20.869792077136275),\n",
       " (23.0, 31.148773840024525),\n",
       " (16.100000000000001, 22.132878439041502),\n",
       " (15.699999999999999, 14.927429306126239),\n",
       " (24.100000000000001, 20.73778900187315),\n",
       " (13.1, 14.504694996667659),\n",
       " (21.800000000000001, 20.524792172826203),\n",
       " (23.800000000000001, 24.74244398265969),\n",
       " (19.100000000000001, 20.152810306498292),\n",
       " (21.199999999999999, 22.659658737325785),\n",
       " (28.399999999999999, 28.387559218587818),\n",
       " (33.200000000000003, 31.830834484787424),\n",
       " (22.199999999999999, 25.793020144406839),\n",
       " (19.300000000000001, 22.02735017950528),\n",
       " (22.800000000000001, 26.544441771248422),\n",
       " (21.5, 21.476191732247791),\n",
       " (22.0, 20.922626265477867),\n",
       " (14.300000000000001, 14.123597765193193),\n",
       " (15.199999999999999, 19.76973430897635),\n",
       " (19.600000000000001, 21.311559496949581),\n",
       " (22.0, 29.309924492643958),\n",
       " (32.700000000000003, 30.405908882575538),\n",
       " (23.899999999999999, 24.49322787011225),\n",
       " (45.399999999999999, 39.126820153632806),\n",
       " (13.800000000000001, 20.684455215956103),\n",
       " (23.199999999999999, 25.584275970610271),\n",
       " (46.700000000000003, 35.097440033743673),\n",
       " (14.5, 18.620738473098175),\n",
       " (10.9, 14.016878945925884),\n",
       " (28.699999999999999, 30.557714116742737),\n",
       " (16.300000000000001, 12.125817078496956),\n",
       " (16.100000000000001, 19.000475924456495),\n",
       " (18.5, 19.504014445587231),\n",
       " (16.800000000000001, 21.7493493180401),\n",
       " (16.600000000000001, 15.298942883034925),\n",
       " (22.699999999999999, 23.667274703122686),\n",
       " (24.800000000000001, 31.522720067755415),\n",
       " (17.199999999999999, 17.205640272669108),\n",
       " (21.199999999999999, 23.40226519265191),\n",
       " (7.0, -4.7831885596095489),\n",
       " (20.100000000000001, 18.868341998201295),\n",
       " (17.800000000000001, 22.618079437340757),\n",
       " (22.899999999999999, 29.481369037153474),\n",
       " (37.600000000000001, 37.698807090468051),\n",
       " (7.4000000000000004, 5.4393623720527273),\n",
       " (15.0, 15.382974575086894),\n",
       " (25.0, 23.389511510913064),\n",
       " (16.199999999999999, 15.301496056862261),\n",
       " (22.699999999999999, 25.632787954557806),\n",
       " (17.300000000000001, 16.69174265593476),\n",
       " (18.699999999999999, 21.31056416024267),\n",
       " (25.0, 22.505267235830896),\n",
       " (23.699999999999999, 28.634128388160864),\n",
       " (28.100000000000001, 25.031342598732213),\n",
       " (32.399999999999999, 37.347031161456783),\n",
       " (14.800000000000001, 14.396618730500393),\n",
       " (19.800000000000001, 18.342052651025583),\n",
       " (18.699999999999999, 18.147206317081377),\n",
       " (24.800000000000001, 27.29780455237627),\n",
       " (43.799999999999997, 34.483278721191965),\n",
       " (12.699999999999999, 18.361544552268839),\n",
       " (21.899999999999999, 24.669964485059332),\n",
       " (33.200000000000003, 36.739293695326637),\n",
       " (24.699999999999999, 24.286284611129872),\n",
       " (7.0, 8.207256765301679),\n",
       " (22.300000000000001, 27.908618731238679),\n",
       " (27.0, 34.603140805139091),\n",
       " (23.199999999999999, 17.658950328390461),\n",
       " (31.600000000000001, 34.29420826696137),\n",
       " (19.699999999999999, 21.435957546570183),\n",
       " (34.899999999999999, 34.60272118190764),\n",
       " (50.0, 39.649601774388096)]"
      ]
     },
     "execution_count": 7,
     "metadata": {},
     "output_type": "execute_result"
    }
   ],
   "source": [
    "zip (y_test, clf.predict(X_test))"
   ]
  },
  {
   "cell_type": "code",
   "execution_count": 11,
   "metadata": {
    "collapsed": false
   },
   "outputs": [
    {
     "name": "stdout",
     "output_type": "stream",
     "text": [
      "0.747783986629\n"
     ]
    }
   ],
   "source": [
    "r2 = r2_score(y_test, clf.predict(X_test))\n",
    "print r2"
   ]
  },
  {
   "cell_type": "code",
   "execution_count": 12,
   "metadata": {
    "collapsed": false
   },
   "outputs": [
    {
     "name": "stdout",
     "output_type": "stream",
     "text": [
      "17.4820934637\n"
     ]
    }
   ],
   "source": [
    "mse = mean_squared_error(y_test, clf.predict(X_test))\n",
    "print mse"
   ]
  },
  {
   "cell_type": "code",
   "execution_count": 14,
   "metadata": {
    "collapsed": false
   },
   "outputs": [
    {
     "name": "stdout",
     "output_type": "stream",
     "text": [
      "4.18115934446\n"
     ]
    }
   ],
   "source": [
    "import math\n",
    "rmse = math.sqrt(mse)\n",
    "print rmse"
   ]
  },
  {
   "cell_type": "code",
   "execution_count": 37,
   "metadata": {
    "collapsed": false
   },
   "outputs": [
    {
     "name": "stdout",
     "output_type": "stream",
     "text": [
      "0.748788984889 17.4124330434 4.17282075381\n"
     ]
    }
   ],
   "source": [
    "from sklearn.linear_model import Ridge\n",
    "clf = Ridge(alpha=1.0)\n",
    "clf.fit(X_train, y_train)\n",
    "r2 = r2_score(y_test, clf.predict(X_test))\n",
    "mse = mean_squared_error(y_test, clf.predict(X_test))\n",
    "rmse = math.sqrt(mse)\n",
    "print r2, mse, rmse"
   ]
  },
  {
   "cell_type": "code",
   "execution_count": 38,
   "metadata": {
    "collapsed": false
   },
   "outputs": [
    {
     "name": "stdout",
     "output_type": "stream",
     "text": [
      "0.753844214964 17.062034972 4.13062162053\n"
     ]
    }
   ],
   "source": [
    "clf = Ridge(alpha=10.0)\n",
    "clf.fit(X_train, y_train)\n",
    "r2 = r2_score(y_test, clf.predict(X_test))\n",
    "mse = mean_squared_error(y_test, clf.predict(X_test))\n",
    "rmse = math.sqrt(mse)\n",
    "print r2, mse, rmse"
   ]
  },
  {
   "cell_type": "code",
   "execution_count": 40,
   "metadata": {
    "collapsed": false
   },
   "outputs": [
    {
     "name": "stdout",
     "output_type": "stream",
     "text": [
      " 0.752534672327 17.1528045725 4.1415944481\n"
     ]
    }
   ],
   "source": [
    "clf = Ridge(alpha=100.0)\n",
    "clf.fit(X_train, y_train)\n",
    "r2 = r2_score(y_test, clf.predict(X_test))\n",
    "mse = mean_squared_error(y_test, clf.predict(X_test))\n",
    "rmse = math.sqrt(mse)\n",
    "print r2, mse, rmse"
   ]
  },
  {
   "cell_type": "code",
   "execution_count": 50,
   "metadata": {
    "collapsed": false
   },
   "outputs": [
    {
     "name": "stdout",
     "output_type": "stream",
     "text": [
      "0.75652222522 16.8764114465 4.1080909735\n"
     ]
    }
   ],
   "source": [
    "clf = Ridge(alpha=50.0)\n",
    "clf.fit(X_train, y_train)\n",
    "r2 = r2_score(y_test, clf.predict(X_test))\n",
    "mse = mean_squared_error(y_test, clf.predict(X_test))\n",
    "rmse = math.sqrt(mse)\n",
    "print r2, mse, rmse"
   ]
  },
  {
   "cell_type": "code",
   "execution_count": 41,
   "metadata": {
    "collapsed": false
   },
   "outputs": [
    {
     "name": "stdout",
     "output_type": "stream",
     "text": [
      "0.756631745474 16.8688201628 4.10716692658\n"
     ]
    }
   ],
   "source": [
    "clf = Ridge(alpha=30.0)\n",
    "clf.fit(X_train, y_train)\n",
    "r2 = r2_score(y_test, clf.predict(X_test))\n",
    "mse = mean_squared_error(y_test, clf.predict(X_test))\n",
    "rmse = math.sqrt(mse)\n",
    "print r2, mse, rmse"
   ]
  },
  {
   "cell_type": "code",
   "execution_count": 51,
   "metadata": {
    "collapsed": false
   },
   "outputs": [
    {
     "name": "stdout",
     "output_type": "stream",
     "text": [
      "0.756591772427 16.8715908534 4.10750421222\n"
     ]
    }
   ],
   "source": [
    "clf = Ridge(alpha=29.0)\n",
    "clf.fit(X_train, y_train)\n",
    "r2 = r2_score(y_test, clf.predict(X_test))\n",
    "mse = mean_squared_error(y_test, clf.predict(X_test))\n",
    "rmse = math.sqrt(mse)\n",
    "print r2, mse, rmse"
   ]
  },
  {
   "cell_type": "code",
   "execution_count": 53,
   "metadata": {
    "collapsed": false
   },
   "outputs": [
    {
     "name": "stdout",
     "output_type": "stream",
     "text": [
      "0.756694495936 16.8644706791 4.10663739319\n"
     ]
    }
   ],
   "source": [
    "clf = Ridge(alpha=32.0)\n",
    "clf.fit(X_train, y_train)\n",
    "r2 = r2_score(y_test, clf.predict(X_test))\n",
    "mse = mean_squared_error(y_test, clf.predict(X_test))\n",
    "rmse = math.sqrt(mse)\n",
    "print r2, mse, rmse"
   ]
  },
  {
   "cell_type": "code",
   "execution_count": 55,
   "metadata": {
    "collapsed": false
   },
   "outputs": [
    {
     "name": "stdout",
     "output_type": "stream",
     "text": [
      "0.756736416116 16.8615650249 4.10628360259\n"
     ]
    }
   ],
   "source": [
    "clf = Ridge(alpha=34.0)\n",
    "clf.fit(X_train, y_train)\n",
    "r2 = r2_score(y_test, clf.predict(X_test))\n",
    "mse = mean_squared_error(y_test, clf.predict(X_test))\n",
    "rmse = math.sqrt(mse)\n",
    "print r2, mse, rmse"
   ]
  },
  {
   "cell_type": "code",
   "execution_count": 58,
   "metadata": {
    "collapsed": false
   },
   "outputs": [
    {
     "name": "stdout",
     "output_type": "stream",
     "text": [
      "0.756759658734 16.8599539868 4.10608743049\n"
     ]
    }
   ],
   "source": [
    "clf = Ridge(alpha=36.0)\n",
    "clf.fit(X_train, y_train)\n",
    "r2 = r2_score(y_test, clf.predict(X_test))\n",
    "mse = mean_squared_error(y_test, clf.predict(X_test))\n",
    "rmse = math.sqrt(mse)\n",
    "print r2, mse, rmse"
   ]
  },
  {
   "cell_type": "code",
   "execution_count": 69,
   "metadata": {
    "collapsed": false
   },
   "outputs": [
    {
     "name": "stdout",
     "output_type": "stream",
     "text": [
      "0.756766034526 16.8595120554 4.10603361596\n"
     ]
    }
   ],
   "source": [
    "clf = Ridge(alpha=38.0)\n",
    "clf.fit(X_train, y_train)\n",
    "r2 = r2_score(y_test, clf.predict(X_test))\n",
    "mse = mean_squared_error(y_test, clf.predict(X_test))\n",
    "rmse = math.sqrt(mse)\n",
    "print r2, mse, rmse"
   ]
  },
  {
   "cell_type": "code",
   "execution_count": 70,
   "metadata": {
    "collapsed": false
   },
   "outputs": [
    {
     "name": "stdout",
     "output_type": "stream",
     "text": [
      "0.756765939113 16.8595186688 4.10603442129\n"
     ]
    }
   ],
   "source": [
    "clf = Ridge(alpha=38.1)\n",
    "clf.fit(X_train, y_train)\n",
    "r2 = r2_score(y_test, clf.predict(X_test))\n",
    "mse = mean_squared_error(y_test, clf.predict(X_test))\n",
    "rmse = math.sqrt(mse)\n",
    "print r2, mse, rmse"
   ]
  },
  {
   "cell_type": "code",
   "execution_count": 73,
   "metadata": {
    "collapsed": false
   },
   "outputs": [
    {
     "name": "stdout",
     "output_type": "stream",
     "text": [
      "0.756766091653 16.8595080957 4.10603313377\n"
     ]
    }
   ],
   "source": [
    "clf = Ridge(alpha=37.9)\n",
    "clf.fit(X_train, y_train)\n",
    "r2 = r2_score(y_test, clf.predict(X_test))\n",
    "mse = mean_squared_error(y_test, clf.predict(X_test))\n",
    "rmse = math.sqrt(mse)\n",
    "print r2, mse, rmse"
   ]
  },
  {
   "cell_type": "code",
   "execution_count": 74,
   "metadata": {
    "collapsed": false
   },
   "outputs": [
    {
     "name": "stdout",
     "output_type": "stream",
     "text": [
      "0.756766110318 16.8595068019 4.10603297623\n"
     ]
    }
   ],
   "source": [
    "clf = Ridge(alpha=37.8)\n",
    "clf.fit(X_train, y_train)\n",
    "r2 = r2_score(y_test, clf.predict(X_test))\n",
    "mse = mean_squared_error(y_test, clf.predict(X_test))\n",
    "rmse = math.sqrt(mse)\n",
    "print r2, mse, rmse"
   ]
  },
  {
   "cell_type": "code",
   "execution_count": 75,
   "metadata": {
    "collapsed": false
   },
   "outputs": [
    {
     "name": "stdout",
     "output_type": "stream",
     "text": [
      "0.756766090341 16.8595081865 4.10603314484\n"
     ]
    }
   ],
   "source": [
    "clf = Ridge(alpha=37.7)\n",
    "clf.fit(X_train, y_train)\n",
    "r2 = r2_score(y_test, clf.predict(X_test))\n",
    "mse = mean_squared_error(y_test, clf.predict(X_test))\n",
    "rmse = math.sqrt(mse)\n",
    "print r2, mse, rmse"
   ]
  },
  {
   "cell_type": "markdown",
   "metadata": {},
   "source": [
    "Best alpha is 37.8"
   ]
  },
  {
   "cell_type": "code",
   "execution_count": null,
   "metadata": {
    "collapsed": true
   },
   "outputs": [],
   "source": []
  }
 ],
 "metadata": {
  "anaconda-cloud": {},
  "kernelspec": {
   "display_name": "Python [Root]",
   "language": "python",
   "name": "Python [Root]"
  },
  "language_info": {
   "codemirror_mode": {
    "name": "ipython",
    "version": 2
   },
   "file_extension": ".py",
   "mimetype": "text/x-python",
   "name": "python",
   "nbconvert_exporter": "python",
   "pygments_lexer": "ipython2",
   "version": "2.7.12"
  }
 },
 "nbformat": 4,
 "nbformat_minor": 0
}
